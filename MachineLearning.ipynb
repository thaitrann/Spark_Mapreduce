{
  "nbformat": 4,
  "nbformat_minor": 0,
  "metadata": {
    "colab": {
      "name": "MachineLearning.ipynb",
      "provenance": []
    },
    "kernelspec": {
      "name": "python3",
      "display_name": "Python 3"
    },
    "language_info": {
      "name": "python"
    }
  },
  "cells": [
    {
      "cell_type": "markdown",
      "metadata": {
        "id": "BXMnC1w5z621"
      },
      "source": [
        "Các bước xây dựng chương trình học máy với Pyspark:\n",
        "\n",
        "Bước 1) Hoạt động cơ bản với PySpark\n",
        "\n",
        "Bước 2) Tiền xử lý dữ liệu\n",
        "\n",
        "Bước 3) Xây dựng pipeline xử lý dữ liệu\n",
        "\n",
        "Bước 4) Xây dựng bộ phân loại: logistic\n",
        "\n",
        "Bước 5) Đào tạo và đánh giá mô hình\n",
        "\n",
        "Bước 6) Điều chỉnh siêu tham số\n",
        "\n",
        "(Nguồn: https://tek4.vn/apache-spark-machine-learning-voi-pyspark-va-mllib/)"
      ]
    },
    {
      "cell_type": "code",
      "metadata": {
        "colab": {
          "base_uri": "https://localhost:8080/"
        },
        "id": "SQKIWhX5zqqs",
        "outputId": "1f3a429e-7c49-42a0-b332-62c8125e7a14"
      },
      "source": [
        "!pip install pyspark"
      ],
      "execution_count": 1,
      "outputs": [
        {
          "output_type": "stream",
          "text": [
            "Collecting pyspark\n",
            "\u001b[?25l  Downloading https://files.pythonhosted.org/packages/45/b0/9d6860891ab14a39d4bddf80ba26ce51c2f9dc4805e5c6978ac0472c120a/pyspark-3.1.1.tar.gz (212.3MB)\n",
            "\u001b[K     |████████████████████████████████| 212.3MB 62kB/s \n",
            "\u001b[?25hCollecting py4j==0.10.9\n",
            "\u001b[?25l  Downloading https://files.pythonhosted.org/packages/9e/b6/6a4fb90cd235dc8e265a6a2067f2a2c99f0d91787f06aca4bcf7c23f3f80/py4j-0.10.9-py2.py3-none-any.whl (198kB)\n",
            "\u001b[K     |████████████████████████████████| 204kB 45.1MB/s \n",
            "\u001b[?25hBuilding wheels for collected packages: pyspark\n",
            "  Building wheel for pyspark (setup.py) ... \u001b[?25l\u001b[?25hdone\n",
            "  Created wheel for pyspark: filename=pyspark-3.1.1-py2.py3-none-any.whl size=212767604 sha256=8a1bff29019318b4833eee718f95d3bf04ef44cfcaf3e7469c3e34db3ec4bb0f\n",
            "  Stored in directory: /root/.cache/pip/wheels/0b/90/c0/01de724414ef122bd05f056541fb6a0ecf47c7ca655f8b3c0f\n",
            "Successfully built pyspark\n",
            "Installing collected packages: py4j, pyspark\n",
            "Successfully installed py4j-0.10.9 pyspark-3.1.1\n"
          ],
          "name": "stdout"
        }
      ]
    },
    {
      "cell_type": "code",
      "metadata": {
        "id": "e2DyG1Y2qTut"
      },
      "source": [
        "import pyspark\n",
        "\n",
        "from pyspark import SparkContext\n",
        "sc =SparkContext()"
      ],
      "execution_count": 3,
      "outputs": []
    },
    {
      "cell_type": "code",
      "metadata": {
        "id": "ZaLNOrQpqnwK"
      },
      "source": [
        "from pyspark import SparkFiles\n",
        "from pyspark.sql import Row\n",
        "from pyspark.sql import SQLContext\n",
        "\n",
        "sc.addFile('adult_data.csv')\n",
        "sqlContext = SQLContext(sc)"
      ],
      "execution_count": 6,
      "outputs": []
    },
    {
      "cell_type": "code",
      "metadata": {
        "colab": {
          "base_uri": "https://localhost:8080/"
        },
        "id": "2HNXbdlFq9fn",
        "outputId": "c7cb21e2-8790-4406-bfc5-970442daab3a"
      },
      "source": [
        "columns = ['age','workclass','fnlwgt','education','education_num',\n",
        "           'marital','occupation','relationship','race','sex','capital_gain','capital_loss',\n",
        "           'hours_week','native_country','label']\n",
        "           \n",
        "df = sqlContext.read.csv(SparkFiles.get(\"adult_data.csv\"), header=True, inferSchema= True).toDF(*columns)\n",
        "df.show()"
      ],
      "execution_count": 10,
      "outputs": [
        {
          "output_type": "stream",
          "text": [
            "+---+-----------------+--------+-------------+-------------+--------------------+------------------+--------------+-------------------+-------+------------+------------+----------+--------------+------+\n",
            "|age|        workclass|  fnlwgt|    education|education_num|             marital|        occupation|  relationship|               race|    sex|capital_gain|capital_loss|hours_week|native_country| label|\n",
            "+---+-----------------+--------+-------------+-------------+--------------------+------------------+--------------+-------------------+-------+------------+------------+----------+--------------+------+\n",
            "| 50| Self-emp-not-inc| 83311.0|    Bachelors|         13.0|  Married-civ-spouse|   Exec-managerial|       Husband|              White|   Male|         0.0|         0.0|      13.0| United-States| <=50K|\n",
            "| 38|          Private|215646.0|      HS-grad|          9.0|            Divorced| Handlers-cleaners| Not-in-family|              White|   Male|         0.0|         0.0|      40.0| United-States| <=50K|\n",
            "| 53|          Private|234721.0|         11th|          7.0|  Married-civ-spouse| Handlers-cleaners|       Husband|              Black|   Male|         0.0|         0.0|      40.0| United-States| <=50K|\n",
            "| 28|          Private|338409.0|    Bachelors|         13.0|  Married-civ-spouse|    Prof-specialty|          Wife|              Black| Female|         0.0|         0.0|      40.0|          Cuba| <=50K|\n",
            "| 37|          Private|284582.0|      Masters|         14.0|  Married-civ-spouse|   Exec-managerial|          Wife|              White| Female|         0.0|         0.0|      40.0| United-States| <=50K|\n",
            "| 49|          Private|160187.0|          9th|          5.0| Married-spouse-a...|     Other-service| Not-in-family|              Black| Female|         0.0|         0.0|      16.0|       Jamaica| <=50K|\n",
            "| 52| Self-emp-not-inc|209642.0|      HS-grad|          9.0|  Married-civ-spouse|   Exec-managerial|       Husband|              White|   Male|         0.0|         0.0|      45.0| United-States|  >50K|\n",
            "| 31|          Private| 45781.0|      Masters|         14.0|       Never-married|    Prof-specialty| Not-in-family|              White| Female|     14084.0|         0.0|      50.0| United-States|  >50K|\n",
            "| 42|          Private|159449.0|    Bachelors|         13.0|  Married-civ-spouse|   Exec-managerial|       Husband|              White|   Male|      5178.0|         0.0|      40.0| United-States|  >50K|\n",
            "| 37|          Private|280464.0| Some-college|         10.0|  Married-civ-spouse|   Exec-managerial|       Husband|              Black|   Male|         0.0|         0.0|      80.0| United-States|  >50K|\n",
            "| 30|        State-gov|141297.0|    Bachelors|         13.0|  Married-civ-spouse|    Prof-specialty|       Husband| Asian-Pac-Islander|   Male|         0.0|         0.0|      40.0|         India|  >50K|\n",
            "| 23|          Private|122272.0|    Bachelors|         13.0|       Never-married|      Adm-clerical|     Own-child|              White| Female|         0.0|         0.0|      30.0| United-States| <=50K|\n",
            "| 32|          Private|205019.0|   Assoc-acdm|         12.0|       Never-married|             Sales| Not-in-family|              Black|   Male|         0.0|         0.0|      50.0| United-States| <=50K|\n",
            "| 40|          Private|121772.0|    Assoc-voc|         11.0|  Married-civ-spouse|      Craft-repair|       Husband| Asian-Pac-Islander|   Male|         0.0|         0.0|      40.0|             ?|  >50K|\n",
            "| 34|          Private|245487.0|      7th-8th|          4.0|  Married-civ-spouse|  Transport-moving|       Husband| Amer-Indian-Eskimo|   Male|         0.0|         0.0|      45.0|        Mexico| <=50K|\n",
            "| 25| Self-emp-not-inc|176756.0|      HS-grad|          9.0|       Never-married|   Farming-fishing|     Own-child|              White|   Male|         0.0|         0.0|      35.0| United-States| <=50K|\n",
            "| 32|          Private|186824.0|      HS-grad|          9.0|       Never-married| Machine-op-inspct|     Unmarried|              White|   Male|         0.0|         0.0|      40.0| United-States| <=50K|\n",
            "| 38|          Private| 28887.0|         11th|          7.0|  Married-civ-spouse|             Sales|       Husband|              White|   Male|         0.0|         0.0|      50.0| United-States| <=50K|\n",
            "| 43| Self-emp-not-inc|292175.0|      Masters|         14.0|            Divorced|   Exec-managerial|     Unmarried|              White| Female|         0.0|         0.0|      45.0| United-States|  >50K|\n",
            "| 40|          Private|193524.0|    Doctorate|         16.0|  Married-civ-spouse|    Prof-specialty|       Husband|              White|   Male|         0.0|         0.0|      60.0| United-States|  >50K|\n",
            "+---+-----------------+--------+-------------+-------------+--------------------+------------------+--------------+-------------------+-------+------------+------------+----------+--------------+------+\n",
            "only showing top 20 rows\n",
            "\n"
          ],
          "name": "stdout"
        }
      ]
    },
    {
      "cell_type": "code",
      "metadata": {
        "colab": {
          "base_uri": "https://localhost:8080/"
        },
        "id": "B1y689dXryzv",
        "outputId": "ce7ed792-33de-41a5-a62d-a3495f23c681"
      },
      "source": [
        "df.printSchema()"
      ],
      "execution_count": 11,
      "outputs": [
        {
          "output_type": "stream",
          "text": [
            "root\n",
            " |-- age: integer (nullable = true)\n",
            " |-- workclass: string (nullable = true)\n",
            " |-- fnlwgt: double (nullable = true)\n",
            " |-- education: string (nullable = true)\n",
            " |-- education_num: double (nullable = true)\n",
            " |-- marital: string (nullable = true)\n",
            " |-- occupation: string (nullable = true)\n",
            " |-- relationship: string (nullable = true)\n",
            " |-- race: string (nullable = true)\n",
            " |-- sex: string (nullable = true)\n",
            " |-- capital_gain: double (nullable = true)\n",
            " |-- capital_loss: double (nullable = true)\n",
            " |-- hours_week: double (nullable = true)\n",
            " |-- native_country: string (nullable = true)\n",
            " |-- label: string (nullable = true)\n",
            "\n"
          ],
          "name": "stdout"
        }
      ]
    },
    {
      "cell_type": "code",
      "metadata": {
        "colab": {
          "base_uri": "https://localhost:8080/"
        },
        "id": "cOWLOhuusRn0",
        "outputId": "56396f01-8076-491b-95c4-ed8675e86fb4"
      },
      "source": [
        "df.select('age','fnlwgt').show(5)"
      ],
      "execution_count": 12,
      "outputs": [
        {
          "output_type": "stream",
          "text": [
            "+---+--------+\n",
            "|age|  fnlwgt|\n",
            "+---+--------+\n",
            "| 50| 83311.0|\n",
            "| 38|215646.0|\n",
            "| 53|234721.0|\n",
            "| 28|338409.0|\n",
            "| 37|284582.0|\n",
            "+---+--------+\n",
            "only showing top 5 rows\n",
            "\n"
          ],
          "name": "stdout"
        }
      ]
    },
    {
      "cell_type": "code",
      "metadata": {
        "colab": {
          "base_uri": "https://localhost:8080/"
        },
        "id": "dgXpudTAsbzw",
        "outputId": "4aeac24c-55da-45ec-b534-f7454714a28d"
      },
      "source": [
        "df.crosstab('age', 'label').sort(\"age_label\").show()"
      ],
      "execution_count": 13,
      "outputs": [
        {
          "output_type": "stream",
          "text": [
            "+---------+------+-----+\n",
            "|age_label| <=50K| >50K|\n",
            "+---------+------+-----+\n",
            "|       17|   395|    0|\n",
            "|       18|   550|    0|\n",
            "|       19|   710|    2|\n",
            "|       20|   753|    0|\n",
            "|       21|   717|    3|\n",
            "|       22|   752|   13|\n",
            "|       23|   865|   12|\n",
            "|       24|   767|   31|\n",
            "|       25|   788|   53|\n",
            "|       26|   722|   63|\n",
            "|       27|   754|   81|\n",
            "|       28|   748|  119|\n",
            "|       29|   679|  134|\n",
            "|       30|   690|  171|\n",
            "|       31|   705|  183|\n",
            "|       32|   639|  189|\n",
            "|       33|   684|  191|\n",
            "|       34|   643|  243|\n",
            "|       35|   659|  217|\n",
            "|       36|   635|  263|\n",
            "+---------+------+-----+\n",
            "only showing top 20 rows\n",
            "\n"
          ],
          "name": "stdout"
        }
      ]
    },
    {
      "cell_type": "code",
      "metadata": {
        "colab": {
          "base_uri": "https://localhost:8080/"
        },
        "id": "wmnIiD-7spUG",
        "outputId": "6b4746ca-2e1e-4c4c-d93d-2fee2addc193"
      },
      "source": [
        "df.groupBy(\"native_country\").count().sort(\"count\",ascending=True).show()"
      ],
      "execution_count": 15,
      "outputs": [
        {
          "output_type": "stream",
          "text": [
            "+--------------------+-----+\n",
            "|      native_country|count|\n",
            "+--------------------+-----+\n",
            "|  Holand-Netherlands|    1|\n",
            "|            Scotland|   12|\n",
            "|            Honduras|   13|\n",
            "|             Hungary|   13|\n",
            "| Outlying-US(Guam...|   14|\n",
            "|          Yugoslavia|   16|\n",
            "|                Laos|   18|\n",
            "|            Thailand|   18|\n",
            "|            Cambodia|   19|\n",
            "|     Trinadad&Tobago|   19|\n",
            "|                Hong|   20|\n",
            "|             Ireland|   24|\n",
            "|             Ecuador|   28|\n",
            "|              Greece|   29|\n",
            "|              France|   29|\n",
            "|                Peru|   31|\n",
            "|           Nicaragua|   34|\n",
            "|            Portugal|   37|\n",
            "|                Iran|   43|\n",
            "|               Haiti|   44|\n",
            "+--------------------+-----+\n",
            "only showing top 20 rows\n",
            "\n"
          ],
          "name": "stdout"
        }
      ]
    },
    {
      "cell_type": "code",
      "metadata": {
        "id": "O8q7P_Wfs6sQ"
      },
      "source": [
        "df_remove = df.filter(df.native_country !=\t'Holand-Netherlands')"
      ],
      "execution_count": 17,
      "outputs": []
    },
    {
      "cell_type": "code",
      "metadata": {
        "colab": {
          "base_uri": "https://localhost:8080/"
        },
        "id": "up1hwCWptA48",
        "outputId": "736da624-f144-41fb-b0f2-6158ef5c38f4"
      },
      "source": [
        "df_remove.groupBy(\"native_country\").count().sort(\"count\",ascending=True).show()"
      ],
      "execution_count": 18,
      "outputs": [
        {
          "output_type": "stream",
          "text": [
            "+--------------------+-----+\n",
            "|      native_country|count|\n",
            "+--------------------+-----+\n",
            "|  Holand-Netherlands|    1|\n",
            "|            Scotland|   12|\n",
            "|            Honduras|   13|\n",
            "|             Hungary|   13|\n",
            "| Outlying-US(Guam...|   14|\n",
            "|          Yugoslavia|   16|\n",
            "|                Laos|   18|\n",
            "|            Thailand|   18|\n",
            "|            Cambodia|   19|\n",
            "|     Trinadad&Tobago|   19|\n",
            "|                Hong|   20|\n",
            "|             Ireland|   24|\n",
            "|             Ecuador|   28|\n",
            "|              Greece|   29|\n",
            "|              France|   29|\n",
            "|                Peru|   31|\n",
            "|           Nicaragua|   34|\n",
            "|            Portugal|   37|\n",
            "|                Iran|   43|\n",
            "|               Haiti|   44|\n",
            "+--------------------+-----+\n",
            "only showing top 20 rows\n",
            "\n"
          ],
          "name": "stdout"
        }
      ]
    },
    {
      "cell_type": "code",
      "metadata": {
        "id": "azS1Y51OtJ_0"
      },
      "source": [
        "from pyspark.ml.feature import StringIndexer, OneHotEncoder, VectorAssembler\n",
        " \n",
        "stringIndexer = StringIndexer(inputCol=\"workclass\", outputCol=\"workclass_encoded\")\n",
        "model = stringIndexer.fit(df)\n",
        "indexed = model.transform(df)\n"
      ],
      "execution_count": 20,
      "outputs": []
    },
    {
      "cell_type": "code",
      "metadata": {
        "colab": {
          "base_uri": "https://localhost:8080/"
        },
        "id": "_zK811GttW6V",
        "outputId": "f4247c9f-f0ca-44f0-c87b-89f3ce667bf2"
      },
      "source": [
        "encoder = OneHotEncoder(dropLast=False, inputCol=\"workclass_encoded\", outputCol=\"workclass_vec\")\n",
        "encode = encoder.fit(indexed)\n",
        "encoded = encode.transform(indexed)\n",
        "encoded.show(2)"
      ],
      "execution_count": 23,
      "outputs": [
        {
          "output_type": "stream",
          "text": [
            "+---+-----------------+--------+----------+-------------+-------------------+------------------+--------------+------+-----+------------+------------+----------+--------------+------+-----------------+-------------+\n",
            "|age|        workclass|  fnlwgt| education|education_num|            marital|        occupation|  relationship|  race|  sex|capital_gain|capital_loss|hours_week|native_country| label|workclass_encoded|workclass_vec|\n",
            "+---+-----------------+--------+----------+-------------+-------------------+------------------+--------------+------+-----+------------+------------+----------+--------------+------+-----------------+-------------+\n",
            "| 50| Self-emp-not-inc| 83311.0| Bachelors|         13.0| Married-civ-spouse|   Exec-managerial|       Husband| White| Male|         0.0|         0.0|      13.0| United-States| <=50K|              1.0|(9,[1],[1.0])|\n",
            "| 38|          Private|215646.0|   HS-grad|          9.0|           Divorced| Handlers-cleaners| Not-in-family| White| Male|         0.0|         0.0|      40.0| United-States| <=50K|              0.0|(9,[0],[1.0])|\n",
            "+---+-----------------+--------+----------+-------------+-------------------+------------------+--------------+------+-----+------------+------------+----------+--------------+------+-----------------+-------------+\n",
            "only showing top 2 rows\n",
            "\n"
          ],
          "name": "stdout"
        }
      ]
    },
    {
      "cell_type": "code",
      "metadata": {
        "id": "pGptYHe3tqoZ"
      },
      "source": [
        "from pyspark.ml import Pipeline\n",
        "#from pyspark.ml.feature import OneHotEncoderEstimator\n",
        "CATE_FEATURES = ['workclass', 'education', 'marital', 'occupation', 'relationship', 'race', 'sex', 'native_country']\n",
        "stages = [] # stages in our Pipeline\n",
        "for categoricalCol in CATE_FEATURES:\n",
        "    stringIndexer = StringIndexer(inputCol=categoricalCol, outputCol=categoricalCol + \"Index\")\n",
        "    encoder = OneHotEncoder(inputCols=[stringIndexer.getOutputCol()],\n",
        "                                     outputCols=[categoricalCol + \"classVec\"])\n",
        "    stages += [stringIndexer, encoder]"
      ],
      "execution_count": 25,
      "outputs": []
    },
    {
      "cell_type": "code",
      "metadata": {
        "id": "yBBwUOB3uGnF"
      },
      "source": [
        "label_stringIdx =  StringIndexer(inputCol=\"label\", outputCol=\"newlabel\")\n",
        "stages += [label_stringIdx]"
      ],
      "execution_count": 26,
      "outputs": []
    },
    {
      "cell_type": "code",
      "metadata": {
        "id": "WaJIpdEGuPPO"
      },
      "source": [
        "CONTI_FEATURES  = ['age', 'fnlwgt','capital_gain', 'education_num', 'capital_loss', 'hours_week']\n",
        "assemblerInputs = [c + \"classVec\" for c in CATE_FEATURES] + CONTI_FEATURES\n",
        "\n",
        "assembler = VectorAssembler(inputCols=assemblerInputs, outputCol=\"features\")\n",
        "stages += [assembler]"
      ],
      "execution_count": 31,
      "outputs": []
    },
    {
      "cell_type": "code",
      "metadata": {
        "id": "6D5dOxQ5uxAU"
      },
      "source": [
        "pipeline = Pipeline(stages=stages)\n",
        "pipelineModel = pipeline.fit(df_remove)\n",
        "model = pipelineModel.transform(df_remove)"
      ],
      "execution_count": 32,
      "outputs": []
    },
    {
      "cell_type": "code",
      "metadata": {
        "colab": {
          "base_uri": "https://localhost:8080/"
        },
        "id": "hJT0KuIVu3mZ",
        "outputId": "a842fa81-35ad-4187-b3dc-b9708e656239"
      },
      "source": [
        "model.take(1)"
      ],
      "execution_count": 33,
      "outputs": [
        {
          "output_type": "execute_result",
          "data": {
            "text/plain": [
              "[Row(age=50, workclass=' Self-emp-not-inc', fnlwgt=83311.0, education=' Bachelors', education_num=13.0, marital=' Married-civ-spouse', occupation=' Exec-managerial', relationship=' Husband', race=' White', sex=' Male', capital_gain=0.0, capital_loss=0.0, hours_week=13.0, native_country=' United-States', label=' <=50K', workclassIndex=1.0, workclassclassVec=SparseVector(8, {1: 1.0}), educationIndex=2.0, educationclassVec=SparseVector(15, {2: 1.0}), maritalIndex=0.0, maritalclassVec=SparseVector(6, {0: 1.0}), occupationIndex=2.0, occupationclassVec=SparseVector(14, {2: 1.0}), relationshipIndex=0.0, relationshipclassVec=SparseVector(5, {0: 1.0}), raceIndex=0.0, raceclassVec=SparseVector(4, {0: 1.0}), sexIndex=0.0, sexclassVec=SparseVector(1, {0: 1.0}), native_countryIndex=0.0, native_countryclassVec=SparseVector(41, {0: 1.0}), newlabel=0.0, features=SparseVector(100, {1: 1.0, 10: 1.0, 23: 1.0, 31: 1.0, 43: 1.0, 48: 1.0, 52: 1.0, 53: 1.0, 94: 50.0, 95: 83311.0, 97: 13.0, 99: 13.0}))]"
            ]
          },
          "metadata": {
            "tags": []
          },
          "execution_count": 33
        }
      ]
    },
    {
      "cell_type": "code",
      "metadata": {
        "id": "UjUPAN6HvKuC"
      },
      "source": [
        "from pyspark.ml.linalg import DenseVector\n",
        "input_data = model.rdd.map(lambda x: (x[\"newlabel\"], DenseVector(x[\"features\"])))"
      ],
      "execution_count": 34,
      "outputs": []
    },
    {
      "cell_type": "code",
      "metadata": {
        "colab": {
          "base_uri": "https://localhost:8080/"
        },
        "id": "bUBs1BCfvOdk",
        "outputId": "aa0df355-4380-4081-9b4b-cc97b6e99e8a"
      },
      "source": [
        "df_train = sqlContext.createDataFrame(input_data, [\"label\", \"features\"])\n",
        "df_train.show(2)"
      ],
      "execution_count": 36,
      "outputs": [
        {
          "output_type": "stream",
          "text": [
            "+-----+--------------------+\n",
            "|label|            features|\n",
            "+-----+--------------------+\n",
            "|  0.0|[0.0,1.0,0.0,0.0,...|\n",
            "|  0.0|[1.0,0.0,0.0,0.0,...|\n",
            "+-----+--------------------+\n",
            "only showing top 2 rows\n",
            "\n"
          ],
          "name": "stdout"
        }
      ]
    },
    {
      "cell_type": "code",
      "metadata": {
        "id": "fZ_ZudyBvWtQ"
      },
      "source": [
        "train_data, test_data = df_train.randomSplit([.8,.2],seed=1234)"
      ],
      "execution_count": 37,
      "outputs": []
    },
    {
      "cell_type": "code",
      "metadata": {
        "colab": {
          "base_uri": "https://localhost:8080/"
        },
        "id": "sBjcN30OvaJd",
        "outputId": "050a2cee-e6d2-4e15-af1e-4e739ecb1a8b"
      },
      "source": [
        "train_data.groupby('label').agg({'label': 'count'}).show()"
      ],
      "execution_count": 38,
      "outputs": [
        {
          "output_type": "stream",
          "text": [
            "+-----+------------+\n",
            "|label|count(label)|\n",
            "+-----+------------+\n",
            "|  0.0|       19785|\n",
            "|  1.0|        6254|\n",
            "+-----+------------+\n",
            "\n"
          ],
          "name": "stdout"
        }
      ]
    },
    {
      "cell_type": "code",
      "metadata": {
        "colab": {
          "base_uri": "https://localhost:8080/"
        },
        "id": "QJGO8xcEv0t3",
        "outputId": "2d1382b0-72fb-4930-c498-e25fde0fb060"
      },
      "source": [
        "test_data.groupby('label').agg({'label': 'count'}).show()"
      ],
      "execution_count": 39,
      "outputs": [
        {
          "output_type": "stream",
          "text": [
            "+-----+------------+\n",
            "|label|count(label)|\n",
            "+-----+------------+\n",
            "|  0.0|        4934|\n",
            "|  1.0|        1587|\n",
            "+-----+------------+\n",
            "\n"
          ],
          "name": "stdout"
        }
      ]
    },
    {
      "cell_type": "code",
      "metadata": {
        "id": "NHjnlEAdwRTf"
      },
      "source": [
        "from pyspark.ml.classification import LogisticRegression\n",
        " \n",
        "lr = LogisticRegression(labelCol=\"label\",\n",
        "                        featuresCol=\"features\",\n",
        "                        maxIter=10,\n",
        "                        regParam=0.3)\n",
        " \n",
        "linearModel = lr.fit(train_data)"
      ],
      "execution_count": 40,
      "outputs": []
    },
    {
      "cell_type": "code",
      "metadata": {
        "colab": {
          "base_uri": "https://localhost:8080/"
        },
        "id": "uKqxPm1cw464",
        "outputId": "db6abeb5-11fd-4d68-98ae-503da406c870"
      },
      "source": [
        "print(\"Coefficients: \" + str(linearModel.coefficients))\n",
        "print(\"Intercept: \" + str(linearModel.intercept))"
      ],
      "execution_count": 41,
      "outputs": [
        {
          "output_type": "stream",
          "text": [
            "Coefficients: [-0.07542478256679226,-0.13162170271883578,-0.08266122771952229,-0.1749616630960082,-0.1225200175313613,0.1735386141188351,0.19183390036686707,-0.5960323812296133,-0.19510929481849007,-0.07991255149987571,0.22180544183633938,0.38150058777063783,0.013472390879031692,-0.3089542597723308,-0.05618017014068094,-0.3139189746835882,-0.39343567591904477,0.5113988129963153,-0.39049236805543885,-0.19172648809986986,0.6223810841185622,-0.3729301825869573,-0.43626907947137,0.31825882153468105,-0.3429071838598613,-0.2079274185896027,-0.2232537703636267,-0.15657173728055793,-0.18063592243623472,0.1818242255607749,-0.07101502657034851,0.27894989565010986,-0.1176907570518571,0.055180203614051376,-0.2850086970767526,-0.21266668350164447,-0.17636013867069683,-0.1327475000836963,-0.2843479021127774,-0.33714235631660044,0.13091492300078966,0.12282793981440418,-0.2948259679140343,0.2631050045489643,-0.191004168732102,-0.3055050088308,-0.2512822831911514,0.41729199977762554,-0.06934091989668822,-0.17219641809815367,-0.06528915077069503,-0.29255840121516336,0.174361359993708,-0.12420449074235951,-0.3806218654389215,-0.23594949882620747,0.05835157440088063,-0.003534851200329317,-0.07065866055869031,-0.30670561575960753,-0.33753748560341407,-0.12319127867946461,-0.10284820900636722,0.03576155237246905,-0.23616086781768592,-0.23260311858211008,-0.25830425199471024,0.1497478884522148,-0.5020289660935305,-0.2717285395977403,-0.22014145151730963,-0.047257906990402755,-0.10142164857332776,-0.558772948564779,-0.10808753731266497,-0.34091999270389745,-0.06166754325598597,-0.35824789551368724,-0.38769614398294283,-0.3731345360436189,-0.022318403527158567,-0.20571095856186272,-0.2703897906246833,-0.34253411470017486,-0.2307020841861369,0.32410333158219956,-0.2643478337652525,-0.25193925112205173,-0.4047169951724266,0.2042618191156001,-0.5648837850514473,-0.3024590325344341,-0.14940393690137177,-0.21237409094430765,0.007108030895940738,8.629843412792537e-08,2.1367080729698446e-05,0.025203368477576964,0.00022901073810861175,0.008763584151848629]\n",
            "Intercept: -1.9649855395617073\n"
          ],
          "name": "stdout"
        }
      ]
    },
    {
      "cell_type": "code",
      "metadata": {
        "id": "jIDEqt3txGtG"
      },
      "source": [
        "predictions = linearModel.transform(test_data)"
      ],
      "execution_count": 42,
      "outputs": []
    },
    {
      "cell_type": "code",
      "metadata": {
        "colab": {
          "base_uri": "https://localhost:8080/"
        },
        "id": "2RFvgbNdxJa-",
        "outputId": "4ea47485-2165-4406-b6b0-bb798608efa3"
      },
      "source": [
        "selected = predictions.select(\"label\", \"prediction\", \"probability\")\n",
        "selected.show(20)"
      ],
      "execution_count": 43,
      "outputs": [
        {
          "output_type": "stream",
          "text": [
            "+-----+----------+--------------------+\n",
            "|label|prediction|         probability|\n",
            "+-----+----------+--------------------+\n",
            "|  0.0|       0.0|[0.92873515300161...|\n",
            "|  0.0|       0.0|[0.90088323495175...|\n",
            "|  0.0|       0.0|[0.91164867507150...|\n",
            "|  0.0|       0.0|[0.92343002123400...|\n",
            "|  0.0|       0.0|[0.90623021836235...|\n",
            "|  0.0|       0.0|[0.64427091454062...|\n",
            "|  0.0|       0.0|[0.63546004973447...|\n",
            "|  0.0|       0.0|[0.89108307408845...|\n",
            "|  0.0|       0.0|[0.84236043482192...|\n",
            "|  0.0|       0.0|[0.83155277070207...|\n",
            "|  0.0|       0.0|[0.85176316154221...|\n",
            "|  0.0|       0.0|[0.87451511061045...|\n",
            "|  0.0|       0.0|[0.83330369453748...|\n",
            "|  0.0|       0.0|[0.83104539496232...|\n",
            "|  0.0|       0.0|[0.81831107902547...|\n",
            "|  0.0|       0.0|[0.56304862961456...|\n",
            "|  0.0|       0.0|[0.58214346857226...|\n",
            "|  0.0|       0.0|[0.65689587400529...|\n",
            "|  0.0|       0.0|[0.54334693843335...|\n",
            "|  0.0|       0.0|[0.93121734948562...|\n",
            "+-----+----------+--------------------+\n",
            "only showing top 20 rows\n",
            "\n"
          ],
          "name": "stdout"
        }
      ]
    },
    {
      "cell_type": "code",
      "metadata": {
        "colab": {
          "base_uri": "https://localhost:8080/"
        },
        "id": "6f-8uvSux-0m",
        "outputId": "975a0efd-4b10-480d-9af2-1976332aeb0f"
      },
      "source": [
        "cm = predictions.select(\"label\", \"prediction\")\n",
        "cm.groupby('label').agg({'label': 'count'}).show()"
      ],
      "execution_count": 44,
      "outputs": [
        {
          "output_type": "stream",
          "text": [
            "+-----+------------+\n",
            "|label|count(label)|\n",
            "+-----+------------+\n",
            "|  0.0|        4934|\n",
            "|  1.0|        1587|\n",
            "+-----+------------+\n",
            "\n"
          ],
          "name": "stdout"
        }
      ]
    },
    {
      "cell_type": "code",
      "metadata": {
        "colab": {
          "base_uri": "https://localhost:8080/"
        },
        "id": "YtEwVtDiyPj1",
        "outputId": "ad632ed4-e776-4b7b-fb10-1ec30869b777"
      },
      "source": [
        "cm.groupby('prediction').agg({'prediction': 'count'}).show()"
      ],
      "execution_count": 45,
      "outputs": [
        {
          "output_type": "stream",
          "text": [
            "+----------+-----------------+\n",
            "|prediction|count(prediction)|\n",
            "+----------+-----------------+\n",
            "|       0.0|             5930|\n",
            "|       1.0|              591|\n",
            "+----------+-----------------+\n",
            "\n"
          ],
          "name": "stdout"
        }
      ]
    },
    {
      "cell_type": "code",
      "metadata": {
        "colab": {
          "base_uri": "https://localhost:8080/"
        },
        "id": "UfdGryV5yU78",
        "outputId": "a75f06da-81e4-4c6f-85e2-b247de51ba2d"
      },
      "source": [
        "cm.filter(cm.label == cm.prediction).count() / cm.count()"
      ],
      "execution_count": 46,
      "outputs": [
        {
          "output_type": "execute_result",
          "data": {
            "text/plain": [
              "0.821806471400092"
            ]
          },
          "metadata": {
            "tags": []
          },
          "execution_count": 46
        }
      ]
    },
    {
      "cell_type": "code",
      "metadata": {
        "colab": {
          "base_uri": "https://localhost:8080/"
        },
        "id": "CJdYQU35yYF1",
        "outputId": "e80a7259-a3ac-448a-8156-11b0f0bb716e"
      },
      "source": [
        "def accuracy_m(model): \n",
        "    predictions = model.transform(test_data)\n",
        "    cm = predictions.select(\"label\", \"prediction\")\n",
        "    acc = cm.filter(cm.label == cm.prediction).count() / cm.count()\n",
        "    print(\"Model accuracy: %.3f%%\" % (acc * 100)) \n",
        "accuracy_m(model = linearModel)"
      ],
      "execution_count": 47,
      "outputs": [
        {
          "output_type": "stream",
          "text": [
            "Model accuracy: 82.181%\n"
          ],
          "name": "stdout"
        }
      ]
    },
    {
      "cell_type": "code",
      "metadata": {
        "colab": {
          "base_uri": "https://localhost:8080/"
        },
        "id": "ocYZn9q1ycXs",
        "outputId": "e8f18e88-32c7-4701-b9e7-d4c517af2317"
      },
      "source": [
        "from pyspark.ml.evaluation import BinaryClassificationEvaluator\n",
        "\n",
        "evaluator = BinaryClassificationEvaluator(rawPredictionCol=\"rawPrediction\")\n",
        "print(evaluator.evaluate(predictions))\n",
        "print(evaluator.getMetricName())"
      ],
      "execution_count": 48,
      "outputs": [
        {
          "output_type": "stream",
          "text": [
            "0.8957906623255631\n",
            "areaUnderROC\n"
          ],
          "name": "stdout"
        }
      ]
    },
    {
      "cell_type": "code",
      "metadata": {
        "id": "lRs5ix25yoyQ"
      },
      "source": [
        "from pyspark.ml.tuning import ParamGridBuilder, CrossValidator\n",
        " \n",
        "paramGrid = (ParamGridBuilder()\n",
        "             .addGrid(lr.regParam, [0.01, 0.5])\n",
        "             .build())"
      ],
      "execution_count": 53,
      "outputs": []
    },
    {
      "cell_type": "code",
      "metadata": {
        "colab": {
          "base_uri": "https://localhost:8080/"
        },
        "id": "h4DwbyKoytJv",
        "outputId": "16aa64ae-78e8-44e5-b05b-a4eb497eef18"
      },
      "source": [
        "from time import *\n",
        "start_time = time()\n",
        " \n",
        "cv = CrossValidator(estimator=lr,\n",
        "                    estimatorParamMaps=paramGrid,\n",
        "                    evaluator=evaluator, numFolds=5)\n",
        "\n",
        "cvModel = cv.fit(train_data)\n",
        "\n",
        "end_time = time() \n",
        "elapsed_time = end_time - start_time\n",
        "print(\"Time to train model: %.3f seconds\" % elapsed_time)"
      ],
      "execution_count": 54,
      "outputs": [
        {
          "output_type": "stream",
          "text": [
            "Time to train model: 836.011 seconds\n"
          ],
          "name": "stdout"
        }
      ]
    },
    {
      "cell_type": "code",
      "metadata": {
        "colab": {
          "base_uri": "https://localhost:8080/"
        },
        "id": "FGg5l-qHy0bQ",
        "outputId": "482ee850-19b4-4b35-bc2d-464acc27f6b9"
      },
      "source": [
        "accuracy_m(model = cvModel)"
      ],
      "execution_count": 55,
      "outputs": [
        {
          "output_type": "stream",
          "text": [
            "Model accuracy: 85.002%\n"
          ],
          "name": "stdout"
        }
      ]
    },
    {
      "cell_type": "code",
      "metadata": {
        "colab": {
          "base_uri": "https://localhost:8080/"
        },
        "id": "mFLynUxpy3yR",
        "outputId": "70b867f0-dc7e-4910-b5e3-356cb75292f4"
      },
      "source": [
        "bestModel = cvModel.bestModel\n",
        "bestModel.extractParamMap()"
      ],
      "execution_count": 56,
      "outputs": [
        {
          "output_type": "execute_result",
          "data": {
            "text/plain": [
              "{Param(parent='LogisticRegression_8a9c476e6a60', name='aggregationDepth', doc='suggested depth for treeAggregate (>= 2).'): 2,\n",
              " Param(parent='LogisticRegression_8a9c476e6a60', name='elasticNetParam', doc='the ElasticNet mixing parameter, in range [0, 1]. For alpha = 0, the penalty is an L2 penalty. For alpha = 1, it is an L1 penalty.'): 0.0,\n",
              " Param(parent='LogisticRegression_8a9c476e6a60', name='family', doc='The name of family which is a description of the label distribution to be used in the model. Supported options: auto, binomial, multinomial'): 'auto',\n",
              " Param(parent='LogisticRegression_8a9c476e6a60', name='featuresCol', doc='features column name.'): 'features',\n",
              " Param(parent='LogisticRegression_8a9c476e6a60', name='fitIntercept', doc='whether to fit an intercept term.'): True,\n",
              " Param(parent='LogisticRegression_8a9c476e6a60', name='labelCol', doc='label column name.'): 'label',\n",
              " Param(parent='LogisticRegression_8a9c476e6a60', name='maxBlockSizeInMB', doc='maximum memory in MB for stacking input data into blocks. Data is stacked within partitions. If more than remaining data size in a partition then it is adjusted to the data size. Default 0.0 represents choosing optimal value, depends on specific algorithm. Must be >= 0.'): 0.0,\n",
              " Param(parent='LogisticRegression_8a9c476e6a60', name='maxIter', doc='max number of iterations (>= 0).'): 10,\n",
              " Param(parent='LogisticRegression_8a9c476e6a60', name='predictionCol', doc='prediction column name.'): 'prediction',\n",
              " Param(parent='LogisticRegression_8a9c476e6a60', name='probabilityCol', doc='Column name for predicted class conditional probabilities. Note: Not all models output well-calibrated probability estimates! These probabilities should be treated as confidences, not precise probabilities.'): 'probability',\n",
              " Param(parent='LogisticRegression_8a9c476e6a60', name='rawPredictionCol', doc='raw prediction (a.k.a. confidence) column name.'): 'rawPrediction',\n",
              " Param(parent='LogisticRegression_8a9c476e6a60', name='regParam', doc='regularization parameter (>= 0).'): 0.01,\n",
              " Param(parent='LogisticRegression_8a9c476e6a60', name='standardization', doc='whether to standardize the training features before fitting the model.'): True,\n",
              " Param(parent='LogisticRegression_8a9c476e6a60', name='threshold', doc='Threshold in binary classification prediction, in range [0, 1]. If threshold and thresholds are both set, they must match.e.g. if threshold is p, then thresholds must be equal to [1-p, p].'): 0.5,\n",
              " Param(parent='LogisticRegression_8a9c476e6a60', name='tol', doc='the convergence tolerance for iterative algorithms (>= 0).'): 1e-06}"
            ]
          },
          "metadata": {
            "tags": []
          },
          "execution_count": 56
        }
      ]
    }
  ]
}