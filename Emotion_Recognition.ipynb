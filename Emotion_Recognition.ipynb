{
  "nbformat": 4,
  "nbformat_minor": 0,
  "metadata": {
    "colab": {
      "name": "Emotion_Recognition.ipynb",
      "provenance": [],
      "collapsed_sections": []
    },
    "kernelspec": {
      "name": "python3",
      "display_name": "Python 3"
    },
    "language_info": {
      "name": "python"
    }
  },
  "cells": [
    {
      "cell_type": "code",
      "metadata": {
        "id": "LWaeRdmFHdKq"
      },
      "source": [
        "import pandas as pd\n",
        "import re\n",
        "import string\n",
        "import matplotlib.pyplot as plt\n",
        "import seaborn as sns\n",
        "import warnings\n",
        "warnings.filterwarnings(\"ignore\")"
      ],
      "execution_count": 294,
      "outputs": []
    },
    {
      "cell_type": "code",
      "metadata": {
        "id": "W0L8FMM3MWG9"
      },
      "source": [
        "train = pd.read_excel('train_nor_811.xlsx', index_col = 0)\n",
        "valid = pd.read_excel('valid_nor_811.xlsx', index_col = 0)\n",
        "test = pd.read_excel('test_nor_811.xlsx', index_col = 0)"
      ],
      "execution_count": 295,
      "outputs": []
    },
    {
      "cell_type": "code",
      "metadata": {
        "id": "JYqEF5dZIW5j"
      },
      "source": [
        "train = train.append(valid)"
      ],
      "execution_count": 296,
      "outputs": []
    },
    {
      "cell_type": "code",
      "metadata": {
        "colab": {
          "base_uri": "https://localhost:8080/",
          "height": 419
        },
        "id": "VGe92aP1IbhS",
        "outputId": "a981e4c5-e2d0-40f7-b470-18a4fbe3b308"
      },
      "source": [
        "train"
      ],
      "execution_count": 297,
      "outputs": [
        {
          "output_type": "execute_result",
          "data": {
            "text/html": [
              "<div>\n",
              "<style scoped>\n",
              "    .dataframe tbody tr th:only-of-type {\n",
              "        vertical-align: middle;\n",
              "    }\n",
              "\n",
              "    .dataframe tbody tr th {\n",
              "        vertical-align: top;\n",
              "    }\n",
              "\n",
              "    .dataframe thead th {\n",
              "        text-align: right;\n",
              "    }\n",
              "</style>\n",
              "<table border=\"1\" class=\"dataframe\">\n",
              "  <thead>\n",
              "    <tr style=\"text-align: right;\">\n",
              "      <th></th>\n",
              "      <th>Emotion</th>\n",
              "      <th>Sentence</th>\n",
              "    </tr>\n",
              "  </thead>\n",
              "  <tbody>\n",
              "    <tr>\n",
              "      <th>188</th>\n",
              "      <td>Other</td>\n",
              "      <td>cho mình xin bài nhạc tên là gì với ạ</td>\n",
              "    </tr>\n",
              "    <tr>\n",
              "      <th>166</th>\n",
              "      <td>Disgust</td>\n",
              "      <td>cho đáng đời con quỷ . về nhà lôi con nhà mày ...</td>\n",
              "    </tr>\n",
              "    <tr>\n",
              "      <th>1345</th>\n",
              "      <td>Disgust</td>\n",
              "      <td>lo học đi . yêu đương lol gì hay lại thích học...</td>\n",
              "    </tr>\n",
              "    <tr>\n",
              "      <th>316</th>\n",
              "      <td>Enjoyment</td>\n",
              "      <td>uớc gì sau này về già vẫn có thể như cụ này :))</td>\n",
              "    </tr>\n",
              "    <tr>\n",
              "      <th>1225</th>\n",
              "      <td>Enjoyment</td>\n",
              "      <td>mỗi lần có video của con là cứ coi đi coi lại ...</td>\n",
              "    </tr>\n",
              "    <tr>\n",
              "      <th>...</th>\n",
              "      <td>...</td>\n",
              "      <td>...</td>\n",
              "    </tr>\n",
              "    <tr>\n",
              "      <th>1290</th>\n",
              "      <td>Sadness</td>\n",
              "      <td>nhọc lòng :(((</td>\n",
              "    </tr>\n",
              "    <tr>\n",
              "      <th>881</th>\n",
              "      <td>Sadness</td>\n",
              "      <td>tao đã rất muốn làm bạn tốt anh em tri kỉ với ...</td>\n",
              "    </tr>\n",
              "    <tr>\n",
              "      <th>1689</th>\n",
              "      <td>Disgust</td>\n",
              "      <td>cơm tấm ở ngoài cũng như này . 😡</td>\n",
              "    </tr>\n",
              "    <tr>\n",
              "      <th>1779</th>\n",
              "      <td>Surprise</td>\n",
              "      <td>chất liệu đỉnh quá</td>\n",
              "    </tr>\n",
              "    <tr>\n",
              "      <th>1486</th>\n",
              "      <td>Anger</td>\n",
              "      <td>dume lũ mất dạy . bố mẹ cho mày ăn học để dơ n...</td>\n",
              "    </tr>\n",
              "  </tbody>\n",
              "</table>\n",
              "<p>6234 rows × 2 columns</p>\n",
              "</div>"
            ],
            "text/plain": [
              "        Emotion                                           Sentence\n",
              "188       Other              cho mình xin bài nhạc tên là gì với ạ\n",
              "166     Disgust  cho đáng đời con quỷ . về nhà lôi con nhà mày ...\n",
              "1345    Disgust  lo học đi . yêu đương lol gì hay lại thích học...\n",
              "316   Enjoyment    uớc gì sau này về già vẫn có thể như cụ này :))\n",
              "1225  Enjoyment  mỗi lần có video của con là cứ coi đi coi lại ...\n",
              "...         ...                                                ...\n",
              "1290    Sadness                                     nhọc lòng :(((\n",
              "881     Sadness  tao đã rất muốn làm bạn tốt anh em tri kỉ với ...\n",
              "1689    Disgust                   cơm tấm ở ngoài cũng như này . 😡\n",
              "1779   Surprise                                 chất liệu đỉnh quá\n",
              "1486      Anger  dume lũ mất dạy . bố mẹ cho mày ăn học để dơ n...\n",
              "\n",
              "[6234 rows x 2 columns]"
            ]
          },
          "metadata": {
            "tags": []
          },
          "execution_count": 297
        }
      ]
    },
    {
      "cell_type": "code",
      "metadata": {
        "id": "A5Ncjl58z3M2",
        "colab": {
          "base_uri": "https://localhost:8080/"
        },
        "outputId": "966704d1-a037-4f8d-97ac-1649bbab6b93"
      },
      "source": [
        "stopword = pd.read_csv('stopword.txt', header=None)\n",
        "stopword[0] = stopword[0].apply(lambda x: x.replace('_', ' '))\n",
        "stopwords = stopword[0].to_list()\n",
        "stopwords"
      ],
      "execution_count": 298,
      "outputs": [
        {
          "output_type": "execute_result",
          "data": {
            "text/plain": [
              "['cho',\n",
              " 'chú thích',\n",
              " 'các',\n",
              " 'còn',\n",
              " 'có',\n",
              " 'cũng',\n",
              " 'của',\n",
              " 'dân số',\n",
              " 'hai',\n",
              " 'hoa',\n",
              " 'họ',\n",
              " 'introduction',\n",
              " 'khi',\n",
              " 'khoa học',\n",
              " 'không',\n",
              " 'liên kết',\n",
              " 'loài',\n",
              " 'là',\n",
              " 'làm',\n",
              " 'miêu tả',\n",
              " 'mô tả',\n",
              " 'một',\n",
              " 'ngoài',\n",
              " 'ngày',\n",
              " 'người',\n",
              " 'nhiều',\n",
              " 'như',\n",
              " 'nhất',\n",
              " 'những',\n",
              " 'này',\n",
              " 'nó',\n",
              " 'năm',\n",
              " 'ra',\n",
              " 'sau',\n",
              " 'tham khảo',\n",
              " 'theo',\n",
              " 'thuộc',\n",
              " 'tháng',\n",
              " 'thêm',\n",
              " 'thể loại',\n",
              " 'thực vật',\n",
              " 'trong',\n",
              " 'trên',\n",
              " 'tên',\n",
              " 'tại',\n",
              " 'tỉnh',\n",
              " 'từ',\n",
              " 'và',\n",
              " 'vào',\n",
              " 'về',\n",
              " 'với',\n",
              " 'xem',\n",
              " 'đã',\n",
              " 'đó',\n",
              " 'được',\n",
              " 'đầu tiên',\n",
              " 'đến',\n",
              " 'để']"
            ]
          },
          "metadata": {
            "tags": []
          },
          "execution_count": 298
        }
      ]
    },
    {
      "cell_type": "code",
      "metadata": {
        "id": "9ycJPendyQ3c"
      },
      "source": [
        "def text_process(mess):\n",
        "\n",
        "    regrex_pattern = re.compile(\"[\"\n",
        "                u\"\\U0001F600-\\U0001F64F\"  \n",
        "                u\"\\U0001F300-\\U0001F5FF\"  \n",
        "                u\"\\U0001F680-\\U0001F6FF\"  \n",
        "                u\"\\U0001F1E0-\\U0001F1FF\"  \n",
        "                u\"\\U00002702-\\U000027B0\"\n",
        "                u\"\\U000024C2-\\U0001F251\"\n",
        "                u\"\\U0001f926-\\U0001f937\"\n",
        "                u'\\U00010000-\\U0010ffff'\n",
        "                u\"\\u200d\"\n",
        "                u\"\\u2640-\\u2642\"\n",
        "                u\"\\u2600-\\u2B55\"\n",
        "                u\"\\u23cf\"\n",
        "                u\"\\u23e9\"\n",
        "                u\"\\u231a\"\n",
        "                u\"\\u3030\"\n",
        "                u\"\\ufe0f\"\n",
        "    \"]+\", flags=re.UNICODE)\n",
        "    mess = regrex_pattern.sub(r\"\",mess)\n",
        "    nopunc = [char for char in mess if char not in string.punctuation]\n",
        "    nopunc = ''.join(nopunc)\n",
        "    \n",
        "    return ' '.join([word for word in nopunc.split() if word.lower() not in stopwords and len(word) < 7])"
      ],
      "execution_count": 299,
      "outputs": []
    },
    {
      "cell_type": "code",
      "metadata": {
        "colab": {
          "base_uri": "https://localhost:8080/",
          "height": 419
        },
        "id": "z0cDayA-GZ4y",
        "outputId": "1b7148cb-e95c-4352-f327-7ecfffbcd2c9"
      },
      "source": [
        "mapper = {'Disgust': 0, 'Enjoyment': 1, 'Anger': 2, 'Surprise': 3, 'Sadness': 4 , 'Fear': 5, 'Other': 6}\n",
        "train['Emotion'] = train['Emotion'].map(mapper)\n",
        "test['Emotion'] = test['Emotion'].map(mapper)\n",
        "test"
      ],
      "execution_count": 300,
      "outputs": [
        {
          "output_type": "execute_result",
          "data": {
            "text/html": [
              "<div>\n",
              "<style scoped>\n",
              "    .dataframe tbody tr th:only-of-type {\n",
              "        vertical-align: middle;\n",
              "    }\n",
              "\n",
              "    .dataframe tbody tr th {\n",
              "        vertical-align: top;\n",
              "    }\n",
              "\n",
              "    .dataframe thead th {\n",
              "        text-align: right;\n",
              "    }\n",
              "</style>\n",
              "<table border=\"1\" class=\"dataframe\">\n",
              "  <thead>\n",
              "    <tr style=\"text-align: right;\">\n",
              "      <th></th>\n",
              "      <th>Emotion</th>\n",
              "      <th>Sentence</th>\n",
              "    </tr>\n",
              "  </thead>\n",
              "  <tbody>\n",
              "    <tr>\n",
              "      <th>713</th>\n",
              "      <td>4</td>\n",
              "      <td>người ta có bạn bè nhìn vui thật</td>\n",
              "    </tr>\n",
              "    <tr>\n",
              "      <th>1827</th>\n",
              "      <td>3</td>\n",
              "      <td>cho nghỉ viêc mói đúng sao goi là kỷ luật</td>\n",
              "    </tr>\n",
              "    <tr>\n",
              "      <th>1166</th>\n",
              "      <td>0</td>\n",
              "      <td>kinh vãi 😡</td>\n",
              "    </tr>\n",
              "    <tr>\n",
              "      <th>228</th>\n",
              "      <td>5</td>\n",
              "      <td>nhà thì không xa lắm nhưng chưa bao giờ đi vì ...</td>\n",
              "    </tr>\n",
              "    <tr>\n",
              "      <th>1942</th>\n",
              "      <td>2</td>\n",
              "      <td>bố không thích nộp đấy mày thích ý kiến không</td>\n",
              "    </tr>\n",
              "    <tr>\n",
              "      <th>...</th>\n",
              "      <td>...</td>\n",
              "      <td>...</td>\n",
              "    </tr>\n",
              "    <tr>\n",
              "      <th>432</th>\n",
              "      <td>4</td>\n",
              "      <td>lúc thì cuốc đất è cổ ra không có giun mà câu ...</td>\n",
              "    </tr>\n",
              "    <tr>\n",
              "      <th>178</th>\n",
              "      <td>1</td>\n",
              "      <td>các bác dẫn crush qua cây sữa nay mà hứng nước...</td>\n",
              "    </tr>\n",
              "    <tr>\n",
              "      <th>1863</th>\n",
              "      <td>3</td>\n",
              "      <td>vợ chồng rồi mà trong sáng như này chỉ có tron...</td>\n",
              "    </tr>\n",
              "    <tr>\n",
              "      <th>476</th>\n",
              "      <td>6</td>\n",
              "      <td>bep này vào binh dương dùng xuất</td>\n",
              "    </tr>\n",
              "    <tr>\n",
              "      <th>1607</th>\n",
              "      <td>3</td>\n",
              "      <td>đôi mắt đằm thắm vãi</td>\n",
              "    </tr>\n",
              "  </tbody>\n",
              "</table>\n",
              "<p>693 rows × 2 columns</p>\n",
              "</div>"
            ],
            "text/plain": [
              "      Emotion                                           Sentence\n",
              "713         4                   người ta có bạn bè nhìn vui thật\n",
              "1827        3          cho nghỉ viêc mói đúng sao goi là kỷ luật\n",
              "1166        0                                         kinh vãi 😡\n",
              "228         5  nhà thì không xa lắm nhưng chưa bao giờ đi vì ...\n",
              "1942        2      bố không thích nộp đấy mày thích ý kiến không\n",
              "...       ...                                                ...\n",
              "432         4  lúc thì cuốc đất è cổ ra không có giun mà câu ...\n",
              "178         1  các bác dẫn crush qua cây sữa nay mà hứng nước...\n",
              "1863        3  vợ chồng rồi mà trong sáng như này chỉ có tron...\n",
              "476         6                   bep này vào binh dương dùng xuất\n",
              "1607        3                               đôi mắt đằm thắm vãi\n",
              "\n",
              "[693 rows x 2 columns]"
            ]
          },
          "metadata": {
            "tags": []
          },
          "execution_count": 300
        }
      ]
    },
    {
      "cell_type": "code",
      "metadata": {
        "id": "dl1zu2qw3vFs"
      },
      "source": [
        "train[\"Sentence\"] = train[\"Sentence\"].apply(lambda text: text_process(text))\n",
        "test[\"Sentence\"] = test[\"Sentence\"].apply(lambda text: text_process(text))"
      ],
      "execution_count": 301,
      "outputs": []
    },
    {
      "cell_type": "code",
      "metadata": {
        "colab": {
          "base_uri": "https://localhost:8080/"
        },
        "id": "tkcJPbu-4mjk",
        "outputId": "230cb2cb-a9c8-4789-87e0-98b3a3500ad3"
      },
      "source": [
        "from sklearn.feature_extraction.text import TfidfVectorizer\n",
        "tf = TfidfVectorizer()  \n",
        "features_train = tf.fit_transform(train['Sentence'])\n",
        "features_test = tf.transform(test['Sentence'])\n",
        "print(features_train.shape, features_test.shape)"
      ],
      "execution_count": 302,
      "outputs": [
        {
          "output_type": "stream",
          "text": [
            "(6234, 4204) (693, 4204)\n"
          ],
          "name": "stdout"
        }
      ]
    },
    {
      "cell_type": "code",
      "metadata": {
        "id": "JfKMh0jNA-84"
      },
      "source": [
        "from sklearn.linear_model import LogisticRegression\n",
        "from sklearn.metrics import classification_report, accuracy_score\n",
        "\n",
        "model = LogisticRegression()\n",
        "model.fit(features_train, train['Emotion'])\n",
        "predict = model.predict(features_test)"
      ],
      "execution_count": 303,
      "outputs": []
    },
    {
      "cell_type": "code",
      "metadata": {
        "colab": {
          "base_uri": "https://localhost:8080/"
        },
        "id": "134AYd_gHfbP",
        "outputId": "fe1513be-4d4f-4dd1-8fd1-c0a297a3c8ab"
      },
      "source": [
        "emotion_test = test['Emotion']\n",
        "accuracy_score(emotion_test, predict)"
      ],
      "execution_count": 304,
      "outputs": [
        {
          "output_type": "execute_result",
          "data": {
            "text/plain": [
              "0.5440115440115441"
            ]
          },
          "metadata": {
            "tags": []
          },
          "execution_count": 304
        }
      ]
    },
    {
      "cell_type": "code",
      "metadata": {
        "colab": {
          "base_uri": "https://localhost:8080/"
        },
        "id": "cDCRaTEmflvg",
        "outputId": "1e815c43-f1f2-4782-9218-9e2aa3cdcf2e"
      },
      "source": [
        "print(classification_report(emotion_test, predict))"
      ],
      "execution_count": 305,
      "outputs": [
        {
          "output_type": "stream",
          "text": [
            "              precision    recall  f1-score   support\n",
            "\n",
            "           0       0.51      0.62      0.56       132\n",
            "           1       0.55      0.71      0.62       193\n",
            "           2       0.53      0.23      0.32        40\n",
            "           3       0.75      0.16      0.27        37\n",
            "           4       0.62      0.48      0.54       116\n",
            "           5       0.91      0.46      0.61        46\n",
            "           6       0.47      0.51      0.49       129\n",
            "\n",
            "    accuracy                           0.54       693\n",
            "   macro avg       0.62      0.45      0.49       693\n",
            "weighted avg       0.57      0.54      0.53       693\n",
            "\n"
          ],
          "name": "stdout"
        }
      ]
    },
    {
      "cell_type": "markdown",
      "metadata": {
        "id": "8gp-COl6cdPv"
      },
      "source": [
        "# BIỂU ĐỒ CỦA CÁC DATA"
      ]
    },
    {
      "cell_type": "code",
      "metadata": {
        "colab": {
          "base_uri": "https://localhost:8080/",
          "height": 497
        },
        "id": "WjjYWqIUcj2l",
        "outputId": "367bf475-8000-4f39-e78a-6f1f6aa85358"
      },
      "source": [
        "#train data\n",
        "plt.figure(figsize = (10,8))\n",
        "sns.countplot(train['Emotion'])\n",
        "plt.show()"
      ],
      "execution_count": 306,
      "outputs": [
        {
          "output_type": "display_data",
          "data": {
            "image/png": "[encoded data removed]",
            "text/plain": [
              "<Figure size 720x576 with 1 Axes>"
            ]
          },
          "metadata": {
            "tags": [],
            "needs_background": "light"
          }
        }
      ]
    },
    {
      "cell_type": "code",
      "metadata": {
        "colab": {
          "base_uri": "https://localhost:8080/",
          "height": 497
        },
        "id": "OzNBKXgWcz-a",
        "outputId": "01b6ce37-0c70-405f-f356-4ba766602ae4"
      },
      "source": [
        "#test data\n",
        "plt.figure(figsize = (10,8))\n",
        "sns.countplot(test['Emotion'])\n",
        "plt.show()"
      ],
      "execution_count": 307,
      "outputs": [
        {
          "output_type": "display_data",
          "data": {
            "image/png": "[encoded data removed]",
            "text/plain": [
              "<Figure size 720x576 with 1 Axes>"
            ]
          },
          "metadata": {
            "tags": [],
            "needs_background": "light"
          }
        }
      ]
    },
    {
      "cell_type": "markdown",
      "metadata": {
        "id": "yFNZXo3HZ---"
      },
      "source": [
        "##DÙNG COMMENT CRAWL TỪ YOUTUBE APPLY VÀO MODEL"
      ]
    },
    {
      "cell_type": "code",
      "metadata": {
        "id": "tZrgI9SEZ8EE"
      },
      "source": [
        "data1 = pd.read_csv('data1.csv', index_col=0)\n",
        "data2 = pd.read_csv('data2.csv', index_col=0)\n",
        "data3 = pd.read_csv('data3.csv', index_col=0)"
      ],
      "execution_count": 316,
      "outputs": []
    },
    {
      "cell_type": "code",
      "metadata": {
        "id": "TeQWWGWqdCI5"
      },
      "source": [
        "data1.rename(columns = {'emotion': 'Emotion', 'comment': 'Sentence'}, inplace = True)\n",
        "data2.rename(columns = {'emotion': 'Emotion', 'comment': 'Sentence'}, inplace = True)\n",
        "data3.rename(columns = {'emotion': 'Emotion', 'comment': 'Sentence'}, inplace = True)"
      ],
      "execution_count": 317,
      "outputs": []
    },
    {
      "cell_type": "code",
      "metadata": {
        "colab": {
          "base_uri": "https://localhost:8080/",
          "height": 450
        },
        "id": "a9i1x4yAdlyt",
        "outputId": "4982a9e2-32cd-4926-8e7c-ca21bd23346c"
      },
      "source": [
        "data_ = data1.append(data2)\n",
        "data_ = data_.append(data3)\n",
        "data_"
      ],
      "execution_count": 318,
      "outputs": [
        {
          "output_type": "execute_result",
          "data": {
            "text/html": [
              "<div>\n",
              "<style scoped>\n",
              "    .dataframe tbody tr th:only-of-type {\n",
              "        vertical-align: middle;\n",
              "    }\n",
              "\n",
              "    .dataframe tbody tr th {\n",
              "        vertical-align: top;\n",
              "    }\n",
              "\n",
              "    .dataframe thead th {\n",
              "        text-align: right;\n",
              "    }\n",
              "</style>\n",
              "<table border=\"1\" class=\"dataframe\">\n",
              "  <thead>\n",
              "    <tr style=\"text-align: right;\">\n",
              "      <th></th>\n",
              "      <th>Emotion</th>\n",
              "      <th>Sentence</th>\n",
              "    </tr>\n",
              "    <tr>\n",
              "      <th>stt</th>\n",
              "      <th></th>\n",
              "      <th></th>\n",
              "    </tr>\n",
              "  </thead>\n",
              "  <tbody>\n",
              "    <tr>\n",
              "      <th>1</th>\n",
              "      <td>Sadness</td>\n",
              "      <td>Thời gian khá gấp nên chưa đã lắm đúng không c...</td>\n",
              "    </tr>\n",
              "    <tr>\n",
              "      <th>2</th>\n",
              "      <td>Enjoyment</td>\n",
              "      <td>Hay mà</td>\n",
              "    </tr>\n",
              "    <tr>\n",
              "      <th>3</th>\n",
              "      <td>Enjoyment</td>\n",
              "      <td>Hay lắm</td>\n",
              "    </tr>\n",
              "    <tr>\n",
              "      <th>4</th>\n",
              "      <td>Enjoyment</td>\n",
              "      <td>Tập này Vinh hay</td>\n",
              "    </tr>\n",
              "    <tr>\n",
              "      <th>5</th>\n",
              "      <td>Enjoyment</td>\n",
              "      <td>Hay mà đâu tệ</td>\n",
              "    </tr>\n",
              "    <tr>\n",
              "      <th>...</th>\n",
              "      <td>...</td>\n",
              "      <td>...</td>\n",
              "    </tr>\n",
              "    <tr>\n",
              "      <th>96</th>\n",
              "      <td>Other</td>\n",
              "      <td>Nghe rap được bao lâu r</td>\n",
              "    </tr>\n",
              "    <tr>\n",
              "      <th>97</th>\n",
              "      <td>Disgust</td>\n",
              "      <td>Duy Nguyễn hất hàm hỏi ai đấy em</td>\n",
              "    </tr>\n",
              "    <tr>\n",
              "      <th>98</th>\n",
              "      <td>Other</td>\n",
              "      <td>Hoang Anh bạn bày tỏ í kiến và lắng nghe người...</td>\n",
              "    </tr>\n",
              "    <tr>\n",
              "      <th>99</th>\n",
              "      <td>Disgust</td>\n",
              "      <td>Z୧uS tôi làm gì mà phải nghe nhận xét hả bạn B...</td>\n",
              "    </tr>\n",
              "    <tr>\n",
              "      <th>100</th>\n",
              "      <td>Disgust</td>\n",
              "      <td>Z୧uS nhân tiện nói về độ trưởng thành Rapfan h...</td>\n",
              "    </tr>\n",
              "  </tbody>\n",
              "</table>\n",
              "<p>300 rows × 2 columns</p>\n",
              "</div>"
            ],
            "text/plain": [
              "       Emotion                                           Sentence\n",
              "stt                                                              \n",
              "1      Sadness  Thời gian khá gấp nên chưa đã lắm đúng không c...\n",
              "2    Enjoyment                                             Hay mà\n",
              "3    Enjoyment                                            Hay lắm\n",
              "4    Enjoyment                                   Tập này Vinh hay\n",
              "5    Enjoyment                                      Hay mà đâu tệ\n",
              "..         ...                                                ...\n",
              "96       Other                            Nghe rap được bao lâu r\n",
              "97     Disgust                   Duy Nguyễn hất hàm hỏi ai đấy em\n",
              "98       Other  Hoang Anh bạn bày tỏ í kiến và lắng nghe người...\n",
              "99     Disgust  Z୧uS tôi làm gì mà phải nghe nhận xét hả bạn B...\n",
              "100    Disgust  Z୧uS nhân tiện nói về độ trưởng thành Rapfan h...\n",
              "\n",
              "[300 rows x 2 columns]"
            ]
          },
          "metadata": {
            "tags": []
          },
          "execution_count": 318
        }
      ]
    },
    {
      "cell_type": "code",
      "metadata": {
        "id": "Y81V9WzNkyzT"
      },
      "source": [
        "data_[\"Sentence\"] = data_[\"Sentence\"].apply(lambda text: text_process(text))"
      ],
      "execution_count": 319,
      "outputs": []
    },
    {
      "cell_type": "code",
      "metadata": {
        "colab": {
          "base_uri": "https://localhost:8080/",
          "height": 497
        },
        "id": "pkr1e8K9eY91",
        "outputId": "c7e67be0-fcfa-47c0-bf07-4269f21bf842"
      },
      "source": [
        "#test data\n",
        "plt.figure(figsize = (10,8))\n",
        "sns.countplot(data_['Emotion'])\n",
        "plt.show()"
      ],
      "execution_count": 320,
      "outputs": [
        {
          "output_type": "display_data",
          "data": {
            "image/png": "[encoded data removed]",
            "text/plain": [
              "<Figure size 720x576 with 1 Axes>"
            ]
          },
          "metadata": {
            "tags": [],
            "needs_background": "light"
          }
        }
      ]
    },
    {
      "cell_type": "code",
      "metadata": {
        "colab": {
          "base_uri": "https://localhost:8080/"
        },
        "id": "WfvWeVRHfHg6",
        "outputId": "e78e621d-77dd-4c36-ddec-8f44a3c2ccb3"
      },
      "source": [
        "features_data_ = tf.transform(data_['Sentence'])\n",
        "features_data_.shape"
      ],
      "execution_count": 321,
      "outputs": [
        {
          "output_type": "execute_result",
          "data": {
            "text/plain": [
              "(300, 4204)"
            ]
          },
          "metadata": {
            "tags": []
          },
          "execution_count": 321
        }
      ]
    },
    {
      "cell_type": "code",
      "metadata": {
        "id": "fW8A20Qfghvh"
      },
      "source": [
        "data_['Emotion'] = data_['Emotion'].map(mapper)"
      ],
      "execution_count": 322,
      "outputs": []
    },
    {
      "cell_type": "code",
      "metadata": {
        "id": "Zc9cWhvMf7P7"
      },
      "source": [
        "predict = model.predict(features_data_)"
      ],
      "execution_count": 323,
      "outputs": []
    },
    {
      "cell_type": "code",
      "metadata": {
        "colab": {
          "base_uri": "https://localhost:8080/"
        },
        "id": "RrlVs_9ggTfD",
        "outputId": "cf794163-fbf7-417b-fefa-d50043246c4e"
      },
      "source": [
        "emotion_data_ = data_['Emotion']\n",
        "print(classification_report(emotion_data_, predict))\n",
        "accuracy_score(emotion_data_, predict)"
      ],
      "execution_count": 324,
      "outputs": [
        {
          "output_type": "stream",
          "text": [
            "              precision    recall  f1-score   support\n",
            "\n",
            "           0       0.35      0.33      0.34        39\n",
            "           1       0.62      0.78      0.69       154\n",
            "           2       0.00      0.00      0.00        14\n",
            "           3       0.00      0.00      0.00        33\n",
            "           4       0.00      0.00      0.00         2\n",
            "           6       0.34      0.34      0.34        58\n",
            "\n",
            "    accuracy                           0.51       300\n",
            "   macro avg       0.22      0.24      0.23       300\n",
            "weighted avg       0.43      0.51      0.47       300\n",
            "\n"
          ],
          "name": "stdout"
        },
        {
          "output_type": "execute_result",
          "data": {
            "text/plain": [
              "0.51"
            ]
          },
          "metadata": {
            "tags": []
          },
          "execution_count": 324
        }
      ]
    }
  ]
}