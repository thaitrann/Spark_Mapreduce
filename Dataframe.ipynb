{
  "nbformat": 4,
  "nbformat_minor": 0,
  "metadata": {
    "colab": {
      "name": "Dataframe.ipynb",
      "provenance": []
    },
    "kernelspec": {
      "name": "python3",
      "display_name": "Python 3"
    },
    "language_info": {
      "name": "python"
    }
  },
  "cells": [
    {
      "cell_type": "markdown",
      "metadata": {
        "id": "xxtd_Tt5lSAF"
      },
      "source": [
        "#DataFrame\n",
        "DataFrame là một kiểu dữ liệu collection phân tán, được tổ chức thành các cột được đặt tên. Về mặt khái niệm, nó tương đương với các bảng quan hệ (relational tables) đi kèm với các kỹ thuật tối ưu tính toán.\n",
        "\n",
        "DataFrame có thể được xây dựng từ nhiều nguồn dữ liệu khác nhau như Hive table, các file dữ liệu có cấu trúc hay bán cấu trúc (csv, json), các hệ cơ sở dữ liệu phổ biến (MySQL, MongoDB, Cassandra), hoặc RDDs hiện hành. API này được thiết kế cho các ứng dụng Big Data và Data Science hiện đại. Kiểu dữ liệu này được lấy cảm hứng từ DataFrame trong Lập trình R và Pandas trong Python hứa hẹn mang lại hiệu suất tính toán cao hơn. (nguồn: \n",
        "https://ongxuanhong.wordpress.com/2016/05/08/lam-viec-voi-spark-dataframes-truy-van-co-ban/#:~:text=DataFrame%20l%C3%A0%20m%E1%BB%99t%20ki%E1%BB%83u%20d%E1%BB%AF,c%C3%A1c%20c%E1%BB%99t%20%C4%91%C6%B0%E1%BB%A3c%20%C4%91%E1%BA%B7t%20t%C3%AAn.&text=DataFrame%20c%C3%B3%20th%E1%BB%83%20%C4%91%C6%B0%E1%BB%A3c%20x%C3%A2y,)%2C%20ho%E1%BA%B7c%20RDDs%20hi%E1%BB%87n%20h%C3%A0nh.)"
      ]
    },
    {
      "cell_type": "code",
      "metadata": {
        "colab": {
          "base_uri": "https://localhost:8080/"
        },
        "id": "nkkbQHoqhtHK",
        "outputId": "a41d8588-dbe0-419d-b6f0-a1617a79100b"
      },
      "source": [
        "!pip install pyspark\n",
        "from pyspark import *\n",
        "from pyspark.sql import *"
      ],
      "execution_count": 1,
      "outputs": [
        {
          "output_type": "stream",
          "text": [
            "Collecting pyspark\n",
            "\u001b[?25l  Downloading https://files.pythonhosted.org/packages/45/b0/9d6860891ab14a39d4bddf80ba26ce51c2f9dc4805e5c6978ac0472c120a/pyspark-3.1.1.tar.gz (212.3MB)\n",
            "\u001b[K     |████████████████████████████████| 212.3MB 72kB/s \n",
            "\u001b[?25hCollecting py4j==0.10.9\n",
            "\u001b[?25l  Downloading https://files.pythonhosted.org/packages/9e/b6/6a4fb90cd235dc8e265a6a2067f2a2c99f0d91787f06aca4bcf7c23f3f80/py4j-0.10.9-py2.py3-none-any.whl (198kB)\n",
            "\u001b[K     |████████████████████████████████| 204kB 42.1MB/s \n",
            "\u001b[?25hBuilding wheels for collected packages: pyspark\n",
            "  Building wheel for pyspark (setup.py) ... \u001b[?25l\u001b[?25hdone\n",
            "  Created wheel for pyspark: filename=pyspark-3.1.1-py2.py3-none-any.whl size=212767604 sha256=5ee600e1b0a35ab4f70b503581e429f92ebb5ffe051eefb102d642d99380bd61\n",
            "  Stored in directory: /root/.cache/pip/wheels/0b/90/c0/01de724414ef122bd05f056541fb6a0ecf47c7ca655f8b3c0f\n",
            "Successfully built pyspark\n",
            "Installing collected packages: py4j, pyspark\n",
            "Successfully installed py4j-0.10.9 pyspark-3.1.1\n"
          ],
          "name": "stdout"
        }
      ]
    },
    {
      "cell_type": "code",
      "metadata": {
        "colab": {
          "base_uri": "https://localhost:8080/"
        },
        "id": "nNQCt7L5oTg_",
        "outputId": "5cef24e6-e311-48b3-e155-e800ee1cb9f4"
      },
      "source": [
        "from pyspark.sql import SparkSession\n",
        "spark = SparkSession.builder.getOrCreate()\n",
        "df = spark.read.csv('data.csv', header = True, inferSchema = True)\n",
        "df.show()"
      ],
      "execution_count": 2,
      "outputs": [
        {
          "output_type": "stream",
          "text": [
            "+---+-------+--------------------+--------------------+------------------+\n",
            "|_c0|movieId|               title|              genres|        avg_rating|\n",
            "+---+-------+--------------------+--------------------+------------------+\n",
            "|  0|      1|    Toy Story (1995)|Adventure|Animati...| 3.951883701883702|\n",
            "|  1|      2|      Jumanji (1995)|Adventure|Childre...|3.2641764176417642|\n",
            "|  2|      3|Grumpier Old Men ...|      Comedy|Romance|3.1927803379416284|\n",
            "|  3|      4|Waiting to Exhale...|Comedy|Drama|Romance|3.0267175572519083|\n",
            "|  4|      5|Father of the Bri...|              Comedy|3.1445686900958467|\n",
            "|  5|      6|         Heat (1995)|Action|Crime|Thri...| 3.830685618729097|\n",
            "|  6|      7|      Sabrina (1995)|      Comedy|Romance| 3.393712574850299|\n",
            "|  7|      8| Tom and Huck (1995)|  Adventure|Children|3.3133333333333335|\n",
            "|  8|      9| Sudden Death (1995)|              Action|3.0392670157068062|\n",
            "|  9|     10|    GoldenEye (1995)|Action|Adventure|...| 3.422635135135135|\n",
            "| 10|     11|American Presiden...|Comedy|Drama|Romance| 3.710035005834306|\n",
            "| 11|     12|Dracula: Dead and...|       Comedy|Horror|            2.6875|\n",
            "| 12|     13|        Balto (1995)|Adventure|Animati...|  3.24025974025974|\n",
            "| 13|     14|        Nixon (1995)|               Drama|               3.4|\n",
            "| 14|     15|Cutthroat Island ...|Action|Adventure|...|2.7211538461538463|\n",
            "| 15|     16|       Casino (1995)|         Crime|Drama| 3.838267543859649|\n",
            "| 16|     17|Sense and Sensibi...|       Drama|Romance|3.9370829361296473|\n",
            "| 17|     18|   Four Rooms (1995)|              Comedy|3.3423076923076924|\n",
            "| 18|     19|Ace Ventura: When...|              Comedy|2.5894736842105264|\n",
            "| 19|     20|  Money Train (1995)|Action|Comedy|Cri...| 2.876237623762376|\n",
            "+---+-------+--------------------+--------------------+------------------+\n",
            "only showing top 20 rows\n",
            "\n"
          ],
          "name": "stdout"
        }
      ]
    },
    {
      "cell_type": "code",
      "metadata": {
        "colab": {
          "base_uri": "https://localhost:8080/"
        },
        "id": "C4wBNkmBonEx",
        "outputId": "7d55726b-2329-4f4d-f1d2-a91b12d3c0b4"
      },
      "source": [
        "df.printSchema() "
      ],
      "execution_count": 3,
      "outputs": [
        {
          "output_type": "stream",
          "text": [
            "root\n",
            " |-- _c0: integer (nullable = true)\n",
            " |-- movieId: integer (nullable = true)\n",
            " |-- title: string (nullable = true)\n",
            " |-- genres: string (nullable = true)\n",
            " |-- avg_rating: double (nullable = true)\n",
            "\n"
          ],
          "name": "stdout"
        }
      ]
    },
    {
      "cell_type": "code",
      "metadata": {
        "colab": {
          "base_uri": "https://localhost:8080/"
        },
        "id": "05n97wfoo6Bs",
        "outputId": "b92c662e-fe8b-464b-e565-92aa4322dc99"
      },
      "source": [
        "df.columns"
      ],
      "execution_count": 4,
      "outputs": [
        {
          "output_type": "execute_result",
          "data": {
            "text/plain": [
              "['_c0', 'movieId', 'title', 'genres', 'avg_rating']"
            ]
          },
          "metadata": {
            "tags": []
          },
          "execution_count": 4
        }
      ]
    },
    {
      "cell_type": "code",
      "metadata": {
        "colab": {
          "base_uri": "https://localhost:8080/"
        },
        "id": "hqA77C_DpBir",
        "outputId": "8a693c78-9695-4fa2-f5af-b6fbabd34f5d"
      },
      "source": [
        "df.count() # số dòng dữ liệu"
      ],
      "execution_count": 6,
      "outputs": [
        {
          "output_type": "execute_result",
          "data": {
            "text/plain": [
              "13950"
            ]
          },
          "metadata": {
            "tags": []
          },
          "execution_count": 6
        }
      ]
    },
    {
      "cell_type": "code",
      "metadata": {
        "colab": {
          "base_uri": "https://localhost:8080/"
        },
        "id": "CgulGtcEpKPV",
        "outputId": "fd035cdb-53c2-49cd-f080-3cfceeca5959"
      },
      "source": [
        "df.describe().show() #các thông tin mô tả df"
      ],
      "execution_count": 8,
      "outputs": [
        {
          "output_type": "stream",
          "text": [
            "+-------+-----------------+-----------------+--------------------+------------------+------------------+\n",
            "|summary|              _c0|          movieId|               title|            genres|        avg_rating|\n",
            "+-------+-----------------+-----------------+--------------------+------------------+------------------+\n",
            "|  count|            13950|            13950|               13950|             13950|             13950|\n",
            "|   mean|8752.473333333333|32093.99111111111|                null|              null|3.2128310133324427|\n",
            "| stddev|6351.945635036617|36405.04321032151|                null|              null|0.7922779009469872|\n",
            "|    min|                0|                1|\"11'09\\\"\"01 - Sep...|(no genres listed)|               0.5|\n",
            "|    max|            27154|           130642|À nous la liberté...|           Western|               5.0|\n",
            "+-------+-----------------+-----------------+--------------------+------------------+------------------+\n",
            "\n"
          ],
          "name": "stdout"
        }
      ]
    },
    {
      "cell_type": "code",
      "metadata": {
        "colab": {
          "base_uri": "https://localhost:8080/"
        },
        "id": "6xprkgiKpXzH",
        "outputId": "560012e2-ced9-4a03-cb5a-e4aef389613d"
      },
      "source": [
        "df.describe('avg_rating').show() #mô tả cột"
      ],
      "execution_count": 11,
      "outputs": [
        {
          "output_type": "stream",
          "text": [
            "+-------+------------------+------------------+\n",
            "|summary|        avg_rating|            genres|\n",
            "+-------+------------------+------------------+\n",
            "|  count|             13950|             13950|\n",
            "|   mean|3.2128310133324427|              null|\n",
            "| stddev|0.7922779009469872|              null|\n",
            "|    min|               0.5|(no genres listed)|\n",
            "|    max|               5.0|           Western|\n",
            "+-------+------------------+------------------+\n",
            "\n"
          ],
          "name": "stdout"
        }
      ]
    },
    {
      "cell_type": "code",
      "metadata": {
        "colab": {
          "base_uri": "https://localhost:8080/"
        },
        "id": "H_TdIfuEpq_W",
        "outputId": "d0025788-41a9-4307-a64b-3865163f410b"
      },
      "source": [
        "df.select('movieId','avg_rating').show() # lấy dữ liệu theo tên cột"
      ],
      "execution_count": 12,
      "outputs": [
        {
          "output_type": "stream",
          "text": [
            "+-------+------------------+\n",
            "|movieId|        avg_rating|\n",
            "+-------+------------------+\n",
            "|      1| 3.951883701883702|\n",
            "|      2|3.2641764176417642|\n",
            "|      3|3.1927803379416284|\n",
            "|      4|3.0267175572519083|\n",
            "|      5|3.1445686900958467|\n",
            "|      6| 3.830685618729097|\n",
            "|      7| 3.393712574850299|\n",
            "|      8|3.3133333333333335|\n",
            "|      9|3.0392670157068062|\n",
            "|     10| 3.422635135135135|\n",
            "|     11| 3.710035005834306|\n",
            "|     12|            2.6875|\n",
            "|     13|  3.24025974025974|\n",
            "|     14|               3.4|\n",
            "|     15|2.7211538461538463|\n",
            "|     16| 3.838267543859649|\n",
            "|     17|3.9370829361296473|\n",
            "|     18|3.3423076923076924|\n",
            "|     19|2.5894736842105264|\n",
            "|     20| 2.876237623762376|\n",
            "+-------+------------------+\n",
            "only showing top 20 rows\n",
            "\n"
          ],
          "name": "stdout"
        }
      ]
    },
    {
      "cell_type": "code",
      "metadata": {
        "colab": {
          "base_uri": "https://localhost:8080/"
        },
        "id": "jncuyO5hq27p",
        "outputId": "e17aeebf-9961-4856-96e9-3b1cf2a47d96"
      },
      "source": [
        "df.filter(df.avg_rating >= '5').show() #lọc theo điều kiện"
      ],
      "execution_count": 17,
      "outputs": [
        {
          "output_type": "stream",
          "text": [
            "+----+-------+--------------------+--------------------+----------+\n",
            "| _c0|movieId|               title|              genres|avg_rating|\n",
            "+----+-------+--------------------+--------------------+----------+\n",
            "| 132|    134|Sonic Outlaws (1995)|         Documentary|       5.0|\n",
            "| 663|    672|   Tarantella (1995)|               Drama|       5.0|\n",
            "| 715|    727|  War Stories (1995)|         Documentary|       5.0|\n",
            "|1337|   1368|Forbidden Christ,...|               Drama|       5.0|\n",
            "|1432|   1470|Rhyme & Reason (1...|         Documentary|       5.0|\n",
            "|1647|   1706|          Tar (1996)|               Drama|       5.0|\n",
            "|1696|   1764|      Tainted (1998)|     Comedy|Thriller|       5.0|\n",
            "|1740|   1819|Storefront Hitchc...| Documentary|Musical|       5.0|\n",
            "|1788|   1872|       Go Now (1995)|               Drama|       5.0|\n",
            "|2223|   2308| Detroit 9000 (1973)|        Action|Crime|       5.0|\n",
            "|2848|   2934|Amor brujo, El (L...|       Drama|Musical|       5.0|\n",
            "|3067|   3154|Blood on the Sun ...|           Drama|War|       5.0|\n",
            "|3246|   3333|Killing of Sister...|               Drama|       5.0|\n",
            "|3901|   3995|  Boys Life 3 (2000)|               Drama|       5.0|\n",
            "|4136|   4230|Too Much Sleep (1...|              Comedy|       5.0|\n",
            "|4167|   4261|       Lilies (1996)|Drama|Fantasy|Rom...|       5.0|\n",
            "|4253|   4348|Whatever Happened...|              Comedy|       5.0|\n",
            "|4268|   4363|Too Late the Hero...|          Action|War|       5.0|\n",
            "|4572|   4667|Slaves of New Yor...|               Drama|       5.0|\n",
            "|4773|   4869|Burnt Money (Plat...|Action|Crime|Dram...|       5.0|\n",
            "+----+-------+--------------------+--------------------+----------+\n",
            "only showing top 20 rows\n",
            "\n"
          ],
          "name": "stdout"
        }
      ]
    },
    {
      "cell_type": "code",
      "metadata": {
        "colab": {
          "base_uri": "https://localhost:8080/"
        },
        "id": "Cd6XHlCBrLTY",
        "outputId": "2c1f1b82-566d-491b-ad59-92bf9afb3db7"
      },
      "source": [
        "df.filter(df.avg_rating >= '5').count()"
      ],
      "execution_count": 21,
      "outputs": [
        {
          "output_type": "execute_result",
          "data": {
            "text/plain": [
              "160"
            ]
          },
          "metadata": {
            "tags": []
          },
          "execution_count": 21
        }
      ]
    },
    {
      "cell_type": "code",
      "metadata": {
        "colab": {
          "base_uri": "https://localhost:8080/"
        },
        "id": "JrgZDklirZn5",
        "outputId": "4fad8426-7dc5-49d5-c9bb-09494fc07c69"
      },
      "source": [
        "df.filter((df.avg_rating == '3') & (df.movieId >= '10')).show() #lọc nhiều tham số"
      ],
      "execution_count": 22,
      "outputs": [
        {
          "output_type": "stream",
          "text": [
            "+---+-------+--------------------+--------------------+----------+\n",
            "|_c0|movieId|               title|              genres|avg_rating|\n",
            "+---+-------+--------------------+--------------------+----------+\n",
            "| 32|     33|Wings of Courage ...|Adventure|Romance...|       3.0|\n",
            "| 58|     59|Confessional, The...|       Drama|Mystery|       3.0|\n",
            "|125|    127|Silences of the P...|               Drama|       3.0|\n",
            "|134|    136|From the Journals...|         Documentary|       3.0|\n",
            "|137|    139|       Target (1995)|        Action|Drama|       3.0|\n",
            "|140|    142|Shadows (Cienie) ...|               Drama|       3.0|\n",
            "|195|    197|Stars Fell on Hen...|               Drama|       3.0|\n",
            "|238|    241|        Fluke (1995)|      Children|Drama|       3.0|\n",
            "|281|    284|New York Cop (Nyû...|        Action|Crime|       3.0|\n",
            "|395|    399|Girl in the Cadil...|               Drama|       3.0|\n",
            "|396|    400|       Homage (1995)|               Drama|       3.0|\n",
            "|405|    409|Above the Rim (1994)|         Crime|Drama|       3.0|\n",
            "|521|    525|Saint of Fort Was...|               Drama|       3.0|\n",
            "|555|    560|Beans of Egypt, M...|               Drama|       3.0|\n",
            "|571|    576|       Fausto (1993)|              Comedy|       3.0|\n",
            "|616|    623|Modern Affair, A ...|             Romance|       3.0|\n",
            "|649|    657|  Yankee Zulu (1994)|        Comedy|Drama|       3.0|\n",
            "|666|    675|Hostile Intention...|Action|Drama|Thri...|       3.0|\n",
            "|674|    684|      Windows (1980)|               Drama|       3.0|\n",
            "|687|    699|To Cross the Rubi...|               Drama|       3.0|\n",
            "+---+-------+--------------------+--------------------+----------+\n",
            "only showing top 20 rows\n",
            "\n"
          ],
          "name": "stdout"
        }
      ]
    },
    {
      "cell_type": "code",
      "metadata": {
        "colab": {
          "base_uri": "https://localhost:8080/"
        },
        "id": "ipJ_OmUlrmyK",
        "outputId": "6d64e1cd-dc83-44a3-9df2-78d486fcb6a1"
      },
      "source": [
        "df.orderBy(df.avg_rating).show() #sắp xếp từ nhỏ -> lớn theo cột"
      ],
      "execution_count": 27,
      "outputs": [
        {
          "output_type": "stream",
          "text": [
            "+----+-------+--------------------+--------------------+----------+\n",
            "| _c0|movieId|               title|              genres|avg_rating|\n",
            "+----+-------+--------------------+--------------------+----------+\n",
            "|4993|   5089|Honky Tonk Freewa...|              Comedy|       0.5|\n",
            "|5880|   5979|Attack of the Cra...|       Horror|Sci-Fi|       0.5|\n",
            "|5033|   5129| Big Bad Love (2001)|               Drama|       0.5|\n",
            "|1639|   1697|         Bang (1995)|         Crime|Drama|       0.5|\n",
            "|5053|   5149|Cattle Queen of M...|             Western|       0.5|\n",
            "|3064|   3151|Bat Whispers, The...| Crime|Drama|Mystery|       0.5|\n",
            "|5086|   5182|Hawk the Slayer (...|      Action|Fantasy|       0.5|\n",
            "|4947|   5043| Formula, The (1980)|            Thriller|       0.5|\n",
            "|5098|   5195|Zombie Lake (Lac ...|              Horror|       0.5|\n",
            "|3512|   3603|Gay Deceivers, Th...|              Comedy|       0.5|\n",
            "|5819|   5918|Alone in the Dark...|              Horror|       0.5|\n",
            "|5180|   5277|Evil That Men Do,...|     Action|Thriller|       0.5|\n",
            "|3798|   3891|   Turn It Up (2000)|         Crime|Drama|       0.5|\n",
            "|5209|   5306|Return to Horror ...|              Horror|       0.5|\n",
            "|3965|   4059|Amati Girls, The ...|               Drama|       0.5|\n",
            "|5259|   5356|Giant Spider Inva...|       Horror|Sci-Fi|       0.5|\n",
            "|4005|   4099|Death Before Dish...|        Action|Drama|       0.5|\n",
            "|5272|   5369| Big Bad Mama (1974)|       Action|Comedy|       0.5|\n",
            "|4251|   4346|Bride of the Wind...|Drama|Musical|Rom...|       0.5|\n",
            "|5273|   5370|Big Bad Mama II (...|       Action|Comedy|       0.5|\n",
            "+----+-------+--------------------+--------------------+----------+\n",
            "only showing top 20 rows\n",
            "\n"
          ],
          "name": "stdout"
        }
      ]
    },
    {
      "cell_type": "code",
      "metadata": {
        "colab": {
          "base_uri": "https://localhost:8080/"
        },
        "id": "HHmNOMXyr6ZU",
        "outputId": "e4074d1e-6a2b-4729-c3b1-da44789cfe8e"
      },
      "source": [
        "df.orderBy(df.avg_rating.desc()).show() #sắp xếp từ lớn -> nhỏ theo cột"
      ],
      "execution_count": 29,
      "outputs": [
        {
          "output_type": "stream",
          "text": [
            "+----+-------+--------------------+--------------------+----------+\n",
            "| _c0|movieId|               title|              genres|avg_rating|\n",
            "+----+-------+--------------------+--------------------+----------+\n",
            "|3067|   3154|Blood on the Sun ...|           Drama|War|       5.0|\n",
            "|4136|   4230|Too Much Sleep (1...|              Comedy|       5.0|\n",
            "|4167|   4261|       Lilies (1996)|Drama|Fantasy|Rom...|       5.0|\n",
            "| 663|    672|   Tarantella (1995)|               Drama|       5.0|\n",
            "|4253|   4348|Whatever Happened...|              Comedy|       5.0|\n",
            "| 132|    134|Sonic Outlaws (1995)|         Documentary|       5.0|\n",
            "|4268|   4363|Too Late the Hero...|          Action|War|       5.0|\n",
            "|1647|   1706|          Tar (1996)|               Drama|       5.0|\n",
            "|4572|   4667|Slaves of New Yor...|               Drama|       5.0|\n",
            "|1740|   1819|Storefront Hitchc...| Documentary|Musical|       5.0|\n",
            "|4773|   4869|Burnt Money (Plat...|Action|Crime|Dram...|       5.0|\n",
            "|2223|   2308| Detroit 9000 (1973)|        Action|Crime|       5.0|\n",
            "|4787|   4883|Town is Quiet, Th...|               Drama|       5.0|\n",
            "|1337|   1368|Forbidden Christ,...|               Drama|       5.0|\n",
            "|4922|   5018|     Motorama (1991)|Adventure|Comedy|...|       5.0|\n",
            "|3901|   3995|  Boys Life 3 (2000)|               Drama|       5.0|\n",
            "|5155|   5252|Teheran 43: Spy R...|Action|Crime|Dram...|       5.0|\n",
            "| 715|    727|  War Stories (1995)|         Documentary|       5.0|\n",
            "|5177|   5274|    Bar Girls (1994)|      Comedy|Romance|       5.0|\n",
            "|1696|   1764|      Tainted (1998)|     Comedy|Thriller|       5.0|\n",
            "+----+-------+--------------------+--------------------+----------+\n",
            "only showing top 20 rows\n",
            "\n"
          ],
          "name": "stdout"
        }
      ]
    }
  ]
}